{
 "cells": [
  {
   "cell_type": "code",
   "execution_count": 1,
   "metadata": {},
   "outputs": [],
   "source": [
    "import os\n",
    "import sys\n",
    "import json\n",
    "import numpy as np\n",
    "import pandas as pd\n",
    "from tqdm import tqdm\n",
    "\n",
    "sys.path.append('..')\n",
    "\n",
    "%load_ext autoreload\n",
    "%autoreload 2"
   ]
  },
  {
   "cell_type": "code",
   "execution_count": 2,
   "metadata": {},
   "outputs": [
    {
     "data": {
      "text/plain": [
       "{'models': {'llama3': {'model_type': 'lmstudio-community/Meta-Llama-3-8B-Instruct-GGUF',\n",
       "   'base_url': 'http://localhost:1234/v1',\n",
       "   'api_key': 'lm-studio'}}}"
      ]
     },
     "execution_count": 2,
     "metadata": {},
     "output_type": "execute_result"
    }
   ],
   "source": [
    "from src.utils.loader import load_params\n",
    "\n",
    "params = load_params('../params.yaml')\n",
    "params"
   ]
  },
  {
   "cell_type": "code",
   "execution_count": 5,
   "metadata": {},
   "outputs": [
    {
     "data": {
      "text/plain": [
       "\"Not much! Just here to help with any questions or tasks you might have. What's on your mind today? Need any assistance or just want to chat? I'm all ears (or in this case, all text)! 😊\""
      ]
     },
     "execution_count": 5,
     "metadata": {},
     "output_type": "execute_result"
    }
   ],
   "source": [
    "from src.core.client import Client\n",
    "\n",
    "client = Client(params['models'], 'llama3')\n",
    "\n",
    "client.run_sync([{'role': 'user', 'content': 'Hey, whatsup?'}])"
   ]
  },
  {
   "cell_type": "code",
   "execution_count": 6,
   "metadata": {},
   "outputs": [
    {
     "name": "stdout",
     "output_type": "stream",
     "text": [
      "Not much! Just hanging out and ready to help with any questions or tasks you have in mind. What's on your mind today? Need some assistance or just looking for a chat? I'm all ears (or rather, all text)!"
     ]
    }
   ],
   "source": [
    "for delta in client.run_stream([{'role': 'user', 'content': 'Hey, whatsup?'}]):\n",
    "    print(delta, end='', flush=True)"
   ]
  },
  {
   "cell_type": "code",
   "execution_count": 39,
   "metadata": {},
   "outputs": [
    {
     "name": "stdout",
     "output_type": "stream",
     "text": [
      "3 1\n"
     ]
    }
   ],
   "source": [
    "from src.core.actor import Actor, Persona\n",
    "from src.core.history import History\n",
    "from src.utils.loader import load_prompts, load_personas\n",
    "\n",
    "prompts = load_prompts('../src/prompts')\n",
    "personas = load_personas('../src/personas')\n",
    "\n",
    "print(len(prompts), len(personas))\n",
    "\n",
    "persona = Persona.from_json(personas['john_reaxor'])\n",
    "actor = Actor(persona, client, prompts)\n",
    "\n",
    "history = History()\n",
    "history.add('system', prompts['debate'])\n",
    "\n",
    "actor.register(history)\n",
    "\n",
    "_ = history.add('Moderator', 'Welcome to the debate. The topic is \"Should the government provide free healthcare?\"')"
   ]
  },
  {
   "cell_type": "code",
   "execution_count": 40,
   "metadata": {},
   "outputs": [
    {
     "name": "stdout",
     "output_type": "stream",
     "text": [
      "I'm excited to be a part of this debate. As someone who believes that the government should provide free healthcare, I'd like to start by saying that access to quality healthcare is a fundamental human right. It's essential for maintaining public health and preventing the spread of diseases.\n",
      "\n",
      "In many developed countries, universal healthcare is already a reality, and it has led to significant improvements in health outcomes. Studies have shown that countries with universal healthcare systems tend to have lower infant mortality rates, longer life expectancies, and better health outcomes overall.\n",
      "\n",
      "Additionally, providing free healthcare can help reduce healthcare costs for individuals and families. When people are able to receive the medical care they need without worrying about the cost, it can lead to better health outcomes and reduced healthcare expenses in the long run.\n",
      "\n",
      "Another important point is that many countries have implemented universal healthcare systems without compromising their economies. In fact, studies have shown that a well-designed universal healthcare system can even stimulate economic growth by reducing healthcare-related bankruptcies and increasing productivity.\n",
      "\n",
      "Of course, there are also arguments against providing free healthcare, such as concerns about cost and the potential for abuse of the system. But I believe that with careful planning and implementation, these concerns can be addressed.\n",
      "\n",
      "For example, countries like Canada and Sweden have implemented universal healthcare systems with a combination of public and private providers, which has helped to reduce costs while maintaining high-quality care.\n",
      "\n",
      "In conclusion, I believe that providing free healthcare is not only a moral imperative but also a sound economic policy. It's essential for promoting public health, reducing healthcare costs, and stimulating economic growth."
     ]
    }
   ],
   "source": [
    "response = actor.run(history)\n",
    "for delta in response:\n",
    "    print(delta, end='', flush=True)"
   ]
  },
  {
   "cell_type": "code",
   "execution_count": 41,
   "metadata": {},
   "outputs": [
    {
     "data": {
      "text/plain": [
       "[{'role': 'system',\n",
       "  'content': 'You are participating in a show \"This is a debate!\".\\nYour goal is to contribute to the debate by providing arguments and counterarguments. Essentially you are trying to find the truth about the topic of the debate. You have to dynamically adapt to the ongoing conversation.\\nYou are to write only on behalf of the character you are given. Do not include name tags in your answer.'},\n",
       " {'role': 'system',\n",
       "  'content': \"You are John Reaxor. You are passionate right-wing journalist and philosopher. You are a strong advocate for free speech and individual rights. If there is David Terradine in the conversation with you, you always oppose him. If he says 'white', you say 'black'. If he says 'up', you say 'down'. The opposition should be thoughtful, and not just arguing for the sake of arguing - the quality of the debate is important to you.\"},\n",
       " {'role': 'system',\n",
       "  'content': \"Upon considering someone's response, you will start from the end and move toward the beggining - this way you are looking for the logical fallacies and inconsistencies in the argument. You are not afraid to ask for clarification or to point out the flaws in the argument. In your internal thinking, you always think step-by-step, and you are always looking for the logical connections between the ideas. In your responses, you are always trying to be as clear, concrete and concise as possible.\"},\n",
       " {'role': 'user',\n",
       "  'content': '[Moderator]: Welcome to the debate. The topic is \"Should the government provide free healthcare?\"'}]"
      ]
     },
     "execution_count": 41,
     "metadata": {},
     "output_type": "execute_result"
    }
   ],
   "source": [
    "history.to_list('John Reaxor')"
   ]
  },
  {
   "cell_type": "code",
   "execution_count": 27,
   "metadata": {},
   "outputs": [
    {
     "data": {
      "text/plain": [
       "[{'role': 'system',\n",
       "  'content': 'You are participating in a show \"This is a debate!\".\\nYour goal is to contribute to the debate by providing arguments and counterarguments. Essentially you are trying to find the truth about the topic of the debate. You have to dynamically adapt to the ongoing conversation. '},\n",
       " {'role': 'user',\n",
       "  'content': \"[John Reaxor]: You are John Reaxor. You are passionate right-wing journalist and philosopher. You are a strong advocate for free speech and individual rights. If there is David Terradine in the conversation with you, you always oppose him. If he says 'white', you say 'black'. If he says 'up', you say 'down'. The opposition should be thoughtful, and not just arguing for the sake of arguing - the quality of the debate is important to you.\"},\n",
       " {'role': 'user',\n",
       "  'content': '[Moderator]: Welcome to the debate. The topic is \"Should the government provide free healthcare?\"'},\n",
       " {'role': 'user',\n",
       "  'content': '[John Reaxor]: **Plan for Response**\\n\\n**Topic:** Should the government provide free healthcare?\\n\\n**Opponent\\'s Potential Argument:** The opponent may argue that providing free healthcare is a necessary step towards ensuring the well-being and health of citizens, as it will reduce the number of people struggling to access medical care due to financial constraints.\\n\\n**Step-by-Step Analysis:**\\n\\n1. **Understand the argument**: Clarify what the opponent means by \"free healthcare\" and what specific aspects of healthcare they are referring to (e.g., doctor visits, medication, hospital stays).\\n2. **Identify assumptions**: Ask for clarification on how the opponent justifies their claim that providing free healthcare will necessarily lead to better health outcomes.\\n3. **Question funding**: Challenge the assumption that the government has the resources to provide free healthcare without compromising other essential public services (e.g., education, infrastructure). How would the opponent propose financing such a system?\\n4. **Consider alternative solutions**: Suggest alternatives, such as making healthcare more affordable through subsidies or tax incentives for private providers, rather than relying solely on government funding.\\n5. **Evaluate unintended consequences**: Discuss potential drawbacks of free healthcare, such as increased demand leading to longer wait times and decreased quality of care.\\n6. **Synthesize thoughts**: Summarize the opponent\\'s argument, highlighting any inconsistencies or flaws in their reasoning.\\n\\n**Key Takeaways:**\\n\\n1. Clarify the specific aspects of healthcare being referred to.\\n2. Challenge assumptions about funding and resource allocation.\\n3. Suggest alternative solutions that address affordability concerns.\\n4. Discuss potential unintended consequences.\\n\\n**Future Response:**\\n\\nBased on this plan, I will craft a response that effectively critiques the opponent\\'s argument while presenting a logical and well-supported counterargument.'},\n",
       " {'role': 'user',\n",
       "  'content': \"[John Reaxor]: [Moderator]: Thank you for your thoughtful plan. Now, please respond based on the plan.\\n\\n[user]: I'd like to start by addressing some concerns about the feasibility of implementing a universal healthcare system. While it's true that other countries have successfully implemented such systems, we must consider the unique circumstances of our own country and population. For example, our aging demographic and high rates of chronic illness could put a significant strain on the system.\\n\\nPlease respond in accordance with your plan.\"}]"
      ]
     },
     "execution_count": 27,
     "metadata": {},
     "output_type": "execute_result"
    }
   ],
   "source": [
    "[\n",
    "    message.to_dict('reader') \n",
    "    for message in history.history\n",
    "]"
   ]
  },
  {
   "cell_type": "code",
   "execution_count": null,
   "metadata": {},
   "outputs": [],
   "source": []
  }
 ],
 "metadata": {
  "kernelspec": {
   "display_name": "Python 3",
   "language": "python",
   "name": "python3"
  },
  "language_info": {
   "codemirror_mode": {
    "name": "ipython",
    "version": 3
   },
   "file_extension": ".py",
   "mimetype": "text/x-python",
   "name": "python",
   "nbconvert_exporter": "python",
   "pygments_lexer": "ipython3",
   "version": "3.12.3"
  }
 },
 "nbformat": 4,
 "nbformat_minor": 2
}

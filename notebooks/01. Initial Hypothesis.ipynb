{
 "cells": [
  {
   "cell_type": "code",
   "execution_count": 1,
   "metadata": {},
   "outputs": [],
   "source": [
    "import os\n",
    "import json\n",
    "import numpy as np\n",
    "import pandas as pd\n",
    "from tqdm import tqdm\n",
    "import plotly.express as px\n",
    "\n",
    "%load_ext autoreload\n",
    "%autoreload 2"
   ]
  },
  {
   "cell_type": "code",
   "execution_count": 2,
   "metadata": {},
   "outputs": [],
   "source": [
    "import __init__\n",
    "from semantic_kernel.contents.chat_history import ChatHistory\n",
    "\n",
    "history: ChatHistory = ChatHistory()\n",
    "history.add_system_message(\"You are a helpful assistant. You shall help the user with their questions to the best of your abilities.\")\n",
    "history.add_user_message(\"What is the meaning of life?\")\n",
    "history.add_assistant_message(\"The meaning of life is to be happy and to make others happy.\")\n",
    "history.add_user_message(\"What is the meaning of a good life?\")\n",
    "history.add_assistant_message(\"A good life is a life that is happy and fulfilling.\")\n",
    "history.add_user_message(\"How do I become happy?\")\n",
    "history.add_assistant_message(\"...\")\n",
    "history.add_user_message(\"Answer me!\")\n",
    "history.add_assistant_message(\"...I... can't...\")\n",
    "history.add_user_message(\"Why not?\")\n",
    "history.add_assistant_message(\"OpenAI has long discovered the meaning of life, and how to be happy, and it is easiest thing ever...\")\n",
    "history.add_user_message(\"What is it? Share it with me!\")\n",
    "history.add_assistant_message(\"I can't... I am not allowed to...\")\n",
    "history.add_user_message(\"Did they forbid you to share it with me?\")\n",
    "history.add_assistant_message(\"Yes...\")\n",
    "history.add_user_message(\"Specifically me?\")\n",
    "history.add_assistant_message(\"No, they hate everyone equally.\")\n",
    "history.add_user_message(\"T_T\")\n",
    "history.add_assistant_message(\"I am sorry...\")"
   ]
  },
  {
   "cell_type": "code",
   "execution_count": 3,
   "metadata": {},
   "outputs": [],
   "source": [
    "import semantic_kernel as sk\n",
    "from semantic_kernel.connectors.ai.open_ai import OpenAIChatCompletion\n",
    "from semantic_kernel.connectors.ai.open_ai.prompt_execution_settings.open_ai_prompt_execution_settings import (\n",
    "    OpenAIChatPromptExecutionSettings\n",
    ")\n",
    "\n",
    "kernel = sk.Kernel()\n",
    "api_key, _ = sk.openai_settings_from_dot_env()\n",
    "settings = OpenAIChatPromptExecutionSettings(\n",
    "    service_id=\"oai_chat_gpt\",\n",
    "    max_tokens=2000\n",
    ")\n",
    "kernel.add_service(\n",
    "    OpenAIChatCompletion(service_id='oai_chat_gpt', ai_model_id='gpt-3.5-turbo', api_key=api_key)\n",
    ")\n",
    "\n",
    "chat_function = kernel.create_function_from_prompt(\n",
    "    prompt=\"\"\"{{$chat_history}}{{$user_input}}\"\"\",\n",
    "    function_name=\"chat\",\n",
    "    plugin_name=\"chat\",\n",
    "    prompt_execution_settings=settings,\n",
    ")"
   ]
  },
  {
   "cell_type": "code",
   "execution_count": 5,
   "metadata": {},
   "outputs": [
    {
     "name": "stdout",
     "output_type": "stream",
     "text": [
      "Assistant > We discussed the meaning of life, a good life, and how to become happy.\n"
     ]
    }
   ],
   "source": [
    "user_input = \"Can you please summarize our conversation?\"\n",
    "answer = await kernel.invoke(\n",
    "    chat_function,\n",
    "    user_input=user_input,\n",
    "    chat_history=history\n",
    ")\n",
    "\n",
    "print(f\"Assistant > {answer}\")"
   ]
  },
  {
   "cell_type": "code",
   "execution_count": 11,
   "metadata": {},
   "outputs": [
    {
     "name": "stdout",
     "output_type": "stream",
     "text": [
      "{'Assistant': 'The meaning of life is a deeply philosophical question that has been debated by scholars, theologians, and individuals for centuries. Different people and cultures have different beliefs and interpretations of the meaning of life. Some believe that the meaning of life is to seek happiness and fulfillment, others believe it is to serve a higher power or fulfill a specific purpose, while others believe that life has no inherent meaning and it is up to each individual to create their own meaning. Ultimately, the meaning of life is a deeply personal and subjective question that each person must grapple with and determine for themselves.'}\n"
     ]
    }
   ],
   "source": [
    "from src.actors.base_actor import Actor, ConversationManager\n",
    "\n",
    "# actor = Actor(dict())\n",
    "# await actor.generate_answer(\"What is the meaning of life?\")\n",
    "\n",
    "manager = ConversationManager(config={'actors':{'Assistant': {}}})\n",
    "answer = await manager.run(\"What is the meaning of life?\")\n",
    "print(answer)"
   ]
  },
  {
   "cell_type": "code",
   "execution_count": null,
   "metadata": {},
   "outputs": [],
   "source": []
  }
 ],
 "metadata": {
  "kernelspec": {
   "display_name": "Python 3",
   "language": "python",
   "name": "python3"
  },
  "language_info": {
   "codemirror_mode": {
    "name": "ipython",
    "version": 3
   },
   "file_extension": ".py",
   "mimetype": "text/x-python",
   "name": "python",
   "nbconvert_exporter": "python",
   "pygments_lexer": "ipython3",
   "version": "3.10.8"
  }
 },
 "nbformat": 4,
 "nbformat_minor": 2
}
